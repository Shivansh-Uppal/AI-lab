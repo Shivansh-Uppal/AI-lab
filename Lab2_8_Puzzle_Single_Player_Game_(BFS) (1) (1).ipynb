{
 "cells": [
  {
   "cell_type": "markdown",
   "metadata": {
    "colab_type": "text",
    "id": "h-47G4nF1lBG"
   },
   "source": [
    "<h1>8 Puzzle Single Player Game (Breadth First Search)</h1>"
   ]
  },
  {
   "cell_type": "markdown",
   "metadata": {
    "colab_type": "text",
    "id": "BXCcK4Il4p78"
   },
   "source": [
    "<h2>Introduction</h2>\n",
    "An instance of the n-puzzle game consists of a board holding $n^{2}-1$ distinct movable tiles, plus an empty space. The tiles are numbers from the set $1,..,n^{2}-1$. For any such board, the empty space may be legally swapped with any tile horizontally or vertically adjacent to it. In this assignment, the blank space is going to be represented with the number 0. Given an initial state of the board, the combinatorial search problem is to find a sequence of moves that transitions this state to the goal state; that is, the configuration with all tiles arranged in ascending order  $0,1,..,n^{2}-1$ . \n",
    "\n",
    "The search space is the set of all possible states reachable from the initial state. The blank space may be swapped with a component in one of the four directions {‘Up’, ‘Down’, ‘Left’, ‘Right’}, one move at a time. \n",
    "\n"
   ]
  },
  {
   "cell_type": "markdown",
   "metadata": {
    "colab_type": "text",
    "id": "wx3viZ8g1orV"
   },
   "source": [
    "In this 8 puzzle problem is discussed. \\\\\n",
    "Given a 3×3 board with 8 tiles (every tile has one number from 1 to 8) and one empty space. The objective is to place the numbers on tiles to match final configuration using the empty space. We can slide four adjacent (left, right, above and below) tiles into the empty space. \\\\\n",
    "For example: \\\\\n",
    "![alt text](https://media.geeksforgeeks.org/wp-content/uploads/puzzle8init.jpg)"
   ]
  },
  {
   "cell_type": "markdown",
   "metadata": {
    "colab_type": "text",
    "id": "NlVyyuFI2IyW"
   },
   "source": [
    "**Breadth First Search (BFS):** We can perform a breadth-first search on state space (Set of all configurations of a given problem i.e. all states that can be reached from the initial state) tree. \\\\\n",
    "![alt text](https://media.geeksforgeeks.org/wp-content/uploads/puzzle-1.jpg) \n"
   ]
  },
  {
   "cell_type": "markdown",
   "metadata": {
    "colab_type": "text",
    "id": "HTDnbYRR6FrN"
   },
   "source": [
    "<h2>Algorithm Review</h2>\n",
    "The searches begin by visiting the root node of the search tree, given by the initial state. Among other book-keeping details, three major things happen in sequence in order to visit a node:\n",
    "\n",
    "1.   First, we remove a node from the frontier set.\n",
    "2.   Second, we check the state against the goal state to determine if a solution has been found.\n",
    "3.   Finally, if the result of the check is negative, we then expand the node. To expand a given node, we generate successor nodes adjacent to the current node, and add them to the frontier set. Note that if these successor nodes are already in the frontier, or have already been visited, then they should not be added to the frontier again.\n",
    "\n"
   ]
  },
  {
   "cell_type": "markdown",
   "metadata": {
    "colab_type": "text",
    "id": "oZMhaLwA6qQU"
   },
   "source": [
    "<h3>Example: Breadth-First Search</h3>\n",
    "<h5>Initial State: 1,2,5,3,4,0,6,7,8</h5>\n",
    "\n",
    "\n",
    "<img src=\"https://sandipanweb.files.wordpress.com/2017/03/sol_b0.gif?w=676\" width=\"250\" align=\"center\">\n"
   ]
  },
  {
   "cell_type": "markdown",
   "metadata": {
    "colab_type": "text",
    "id": "V5C3rav587_a"
   },
   "source": [
    "The nodes expanded by BFS (also the nodes that are in the fringe / frontier of the queue) are shown in the following figure:\n",
    "\n",
    "<img src=\"https://sandipanweb.files.wordpress.com/2017/03/fulltree_bfs.png?w=676\" width=\"750\" align=\"center\">"
   ]
  },
  {
   "cell_type": "markdown",
   "metadata": {
    "colab_type": "text",
    "id": "GupQM00kHzsP"
   },
   "source": [
    "**Dear Students, in the code below there are few *TODO* task that you have to complete in this lab session.**"
   ]
  },
  {
   "cell_type": "code",
   "execution_count": null,
   "metadata": {
    "colab": {},
    "colab_type": "code",
    "id": "rcBUwpzpAcr-"
   },
   "outputs": [],
   "source": [
    "#Import the necessary libraries\n",
    "\n",
    "from time import time\n",
    "from queue import Queue"
   ]
  },
  {
   "cell_type": "code",
   "execution_count": 98,
   "metadata": {
    "colab": {},
    "colab_type": "code",
    "id": "bBHJzbPW6pH-"
   },
   "outputs": [],
   "source": [
    "#Creating a class Puzzle\n",
    "class Puzzle:\n",
    "    #Setting the goal state of 8-puzzle \n",
    "    goal_state=[1,4,2,3,5,0,6,7,8]\n",
    "    num_of_instances=0\n",
    "    #constructor to initialize the class members\n",
    "    #works like the default constructor\n",
    "    def __init__(self,state,parent,action): # value passed in it is (self,0,none,none) second pass ([1,2,3,8,0,4,7,6,5],self,0)\n",
    "        self.parent=parent #-> 0 -> self\n",
    "        self.state=state #state is the current state of the board -> set 0 -> [1,2,3,8,0,4,7,6,5]\n",
    "        self.action=action # -> 0 -> 0\n",
    "        \n",
    "        #action is the action that is used to generate the current state from the parent state\n",
    "        #TODO: incrementing the number of instance by 1\n",
    "        # We are incrementing the number of instance by 1 to keep track of the number of nodes generated\n",
    "        Puzzle.num_of_instances +=1 # -> 1 -> 2\n",
    "        print(\"Current state: \",Puzzle.num_of_instances)\n",
    "        print(self.state)\n",
    "            \n",
    "   \n",
    "    #function used to display a state of 8-puzzle\n",
    "   \n",
    "    def __str__(self):\n",
    "        # state tree such that 0-2 in first row, 3-5 in second row and 6-8 in third row\n",
    "     \n",
    "        return str(self.state[0:3])+'\\n'+str(self.state[3:6])+'\\n'+str(self.state[6:9]) # divided the single list into 3 rows and 3 columns\n",
    "        \n",
    "         \n",
    "\n",
    "    #method to compare the current state with the goal state\n",
    "    def goal_test(self):\n",
    "        #TODO: include a condition to compare the current state with the goal state\n",
    "        if self.state == Puzzle.goal_state:\n",
    "            print()\n",
    "            print(\"Goal state found and printed in reverse order: \")\n",
    "            print(      )\n",
    "            print(str(Puzzle.goal_state[0:3])+'\\n'+str(Puzzle.goal_state[3:6])+'\\n'+str(Puzzle.goal_state[6:9]))\n",
    "            #Puzzle.goal_state\n",
    "            return True\n",
    "        else:\n",
    "           return False\n",
    "    \n",
    "    #static method to find the legal action based on the current board position\n",
    "    #static method can be called without creating an object and can be called using the class name\n",
    "    @staticmethod \n",
    "    # i and j are the row and column of the board\n",
    "    def find_legal_actions(i,j):\n",
    "        legal_action = ['U', 'D', 'L', 'R'] # these are the actions performed on the board\n",
    "        if i == 0:  \n",
    "            # if row is 0 in board then up is disable\n",
    "            legal_action.remove('U')\n",
    "        elif i == 2:  \n",
    "            #TODO: down is disable\n",
    "            legal_action.remove('D')\n",
    "        if j == 0: \n",
    "            #TODO: Left is disable\n",
    "            legal_action.remove('L')\n",
    "            \n",
    "        elif j == 2:\n",
    "            #TODO: Right is disable\n",
    "            legal_action.remove('R')\n",
    "\n",
    "        return legal_action\n",
    "\n",
    "    #method to generate the child of the current state of the board\n",
    "    def generate_child(self):\n",
    "        #TODO: create an empty list\n",
    "        children=[] #empty list created \n",
    "        x = self.state.index(0) #index(0) returns the row and column of the board -> 7\n",
    "        \n",
    "        # the value 0 in the board is the empty space \n",
    "        # x is the index of the empty space in the board its stores the row and column of the board in a single variable by using the formula x = i*3 + j\n",
    "        i = int(x / 3) # divided by 3 to get the row of the board -> 2\n",
    "        j = int(x % 3) # mod 3 to get the column of the board -> 1\n",
    "        #example if x=4 then i=1 and j=1\n",
    "        #TODO: call the method to find the legal actions based on i and j values\n",
    "        legal_actions= Puzzle.find_legal_actions(i,j) #(2,1) passed to find_legal_action\n",
    "        #legal_action = ['U', 'L', 'R']\n",
    "        #TODO:Iterate over all legal actions \n",
    "        for action in legal_actions:\n",
    "            new_state = self.state.copy() #coping the current state of the board to new_state\n",
    "            #if the legal action is UP\n",
    "           \n",
    "            if action == 'U':\n",
    "                #Swapping between current index of 0 with its up element on the board \n",
    "                # It is going to take the value of the element above the 0 that is 6 in the first step and swap it with the 0\n",
    "                new_state[x], new_state[x-3] = new_state[x-3], new_state[x]\n",
    "                \n",
    "            elif action == 'D':\n",
    "                #TODO: Swapping between current index of 0 with its down element on the board\n",
    "                new_state[x], new_state[x+3] = new_state[x+3], new_state[x]\n",
    "                \n",
    "            elif action == 'L':\n",
    "                #TODO: Swapping between the current index of 0 with its left element on the board\n",
    "                new_state[x], new_state[x-1] = new_state[x-1], new_state[x]\n",
    "                \n",
    "            elif action == 'R':\n",
    "                #TODO: Swapping between the current index of 0 with its right element on the board\n",
    "                new_state[x], new_state[x+1] = new_state[x+1], new_state[x]\n",
    "            \n",
    "            children.append(Puzzle(new_state,self,action))\n",
    "       \n",
    "        #TODO: return the children\n",
    "        return children\n",
    "    #method to find the solution\n",
    "    def find_solution(self):\n",
    "        solution = []\n",
    "        solution.append(self.action)\n",
    "        path = self\n",
    "        while path.parent != None:\n",
    "            path = path.parent\n",
    "            \n",
    "            print(\"     |    \")\n",
    "            print(path)\n",
    "            \n",
    "            solution.append(path.action)\n",
    "        solution = solution[:-1]\n",
    "        solution.reverse()\n",
    "        return solution"
   ]
  },
  {
   "cell_type": "code",
   "execution_count": 99,
   "metadata": {
    "colab": {},
    "colab_type": "code",
    "id": "WMcheK0f93H6"
   },
   "outputs": [],
   "source": [
    "#method for breadth first search\n",
    "#TODO: pass the initial_state as parameter to the breadth_first_search method \n",
    "def breadth_first_search(initial_state):\n",
    "    start_node = Puzzle(initial_state,None,None) # call the class puzzle default constructor with pass (0,none,none) as parameter\n",
    "    print(\"Initial state:\")  \n",
    "    print(start_node) # # in form of 3 lists -> call the __str__ method of puzzle class\n",
    "    print()\n",
    "    print(\"STATES OF THE BOARD \")\n",
    "    if start_node.goal_test(): # check if goal state == initial state\n",
    "        return start_node.find_solution()\n",
    "    q = Queue() # created a queue object\n",
    "    #TODO: put start_node into the Queue\n",
    "    q.put(start_node) # startnode is the string having 3 lists in it ... so putting that string into the queue\n",
    "    #TODO: create an empty list of explored nodes\n",
    "    explored=[]\n",
    "    #TODO: Iterate the queue until empty. Use the empty() method of Queue\n",
    "    while not(q.empty()): # currently as the queue is not empty so it will go inside the loop\n",
    "        #TODO: get the current node of a queue. Use the get() method of Queue\n",
    "        node= q.get() \n",
    "        \n",
    "        #TODO: Append the state of node in the explored list as node.state\n",
    "        explored.append(node.state)\n",
    "\n",
    "        #TODO: call the generate_child method to generate the child nodes of current node\n",
    "        children= node.generate_child()\n",
    "        #Jump to the generate_child method of Puzzle class\n",
    "        #TODO: Iterate over each child node in children\n",
    "        for child in children:\n",
    "            if child.state not in explored:\n",
    "                if child.goal_test():\n",
    "                    \n",
    "                    return child.find_solution()\n",
    "                q.put(child)\n",
    "                \n",
    "    return\n",
    "\n"
   ]
  },
  {
   "cell_type": "code",
   "execution_count": 100,
   "metadata": {},
   "outputs": [
    {
     "name": "stdout",
     "output_type": "stream",
     "text": [
      "Current state:  1\n",
      "[1, 2, 5, 3, 4, 0, 6, 7, 8]\n",
      "Initial state:\n",
      "[1, 2, 5]\n",
      "[3, 4, 0]\n",
      "[6, 7, 8]\n",
      "\n",
      "STATES OF THE BOARD \n",
      "Current state:  2\n",
      "[1, 2, 0, 3, 4, 5, 6, 7, 8]\n",
      "Current state:  3\n",
      "[1, 2, 5, 3, 4, 8, 6, 7, 0]\n",
      "Current state:  4\n",
      "[1, 2, 5, 3, 0, 4, 6, 7, 8]\n",
      "Current state:  5\n",
      "[1, 2, 5, 3, 4, 0, 6, 7, 8]\n",
      "Current state:  6\n",
      "[1, 0, 2, 3, 4, 5, 6, 7, 8]\n",
      "Current state:  7\n",
      "[1, 2, 5, 3, 4, 0, 6, 7, 8]\n",
      "Current state:  8\n",
      "[1, 2, 5, 3, 4, 8, 6, 0, 7]\n",
      "Current state:  9\n",
      "[1, 0, 5, 3, 2, 4, 6, 7, 8]\n",
      "Current state:  10\n",
      "[1, 2, 5, 3, 7, 4, 6, 0, 8]\n",
      "Current state:  11\n",
      "[1, 2, 5, 0, 3, 4, 6, 7, 8]\n",
      "Current state:  12\n",
      "[1, 2, 5, 3, 4, 0, 6, 7, 8]\n",
      "Current state:  13\n",
      "[1, 4, 2, 3, 0, 5, 6, 7, 8]\n",
      "Current state:  14\n",
      "[0, 1, 2, 3, 4, 5, 6, 7, 8]\n",
      "Current state:  15\n",
      "[1, 2, 0, 3, 4, 5, 6, 7, 8]\n",
      "Current state:  16\n",
      "[1, 2, 5, 3, 0, 8, 6, 4, 7]\n",
      "Current state:  17\n",
      "[1, 2, 5, 3, 4, 8, 0, 6, 7]\n",
      "Current state:  18\n",
      "[1, 2, 5, 3, 4, 8, 6, 7, 0]\n",
      "Current state:  19\n",
      "[1, 2, 5, 3, 0, 4, 6, 7, 8]\n",
      "Current state:  20\n",
      "[0, 1, 5, 3, 2, 4, 6, 7, 8]\n",
      "Current state:  21\n",
      "[1, 5, 0, 3, 2, 4, 6, 7, 8]\n",
      "Current state:  22\n",
      "[1, 2, 5, 3, 0, 4, 6, 7, 8]\n",
      "Current state:  23\n",
      "[1, 2, 5, 3, 7, 4, 0, 6, 8]\n",
      "Current state:  24\n",
      "[1, 2, 5, 3, 7, 4, 6, 8, 0]\n",
      "Current state:  25\n",
      "[0, 2, 5, 1, 3, 4, 6, 7, 8]\n",
      "Current state:  26\n",
      "[1, 2, 5, 6, 3, 4, 0, 7, 8]\n",
      "Current state:  27\n",
      "[1, 2, 5, 3, 0, 4, 6, 7, 8]\n",
      "Current state:  28\n",
      "[1, 0, 2, 3, 4, 5, 6, 7, 8]\n",
      "Current state:  29\n",
      "[1, 4, 2, 3, 7, 5, 6, 0, 8]\n",
      "Current state:  30\n",
      "[1, 4, 2, 0, 3, 5, 6, 7, 8]\n",
      "Current state:  31\n",
      "[1, 4, 2, 3, 5, 0, 6, 7, 8]\n",
      "\n",
      "Goal state found and printed in reverse order: \n",
      "\n",
      "[1, 4, 2]\n",
      "[3, 5, 0]\n",
      "[6, 7, 8]\n",
      "     |    \n",
      "[1, 4, 2]\n",
      "[3, 0, 5]\n",
      "[6, 7, 8]\n",
      "     |    \n",
      "[1, 0, 2]\n",
      "[3, 4, 5]\n",
      "[6, 7, 8]\n",
      "     |    \n",
      "[1, 2, 0]\n",
      "[3, 4, 5]\n",
      "[6, 7, 8]\n",
      "     |    \n",
      "[1, 2, 5]\n",
      "[3, 4, 0]\n",
      "[6, 7, 8]\n",
      "\n",
      "BFS: ['U', 'L', 'D', 'R']\n",
      "space: 31\n",
      "\n",
      "time: 0.0009968280792236328\n",
      "\n",
      "------------------------------------------\n"
     ]
    }
   ],
   "source": [
    "#Start executing the 8-puzzle with setting up the initial state\n",
    "#Here we have considered 3 initial state intitalized using state variable\n",
    "state=[[1, 2, 5,\n",
    "        3, 4, 0,\n",
    "        6, 7, 8]]\n",
    "#Iterate over number of initial_state\n",
    "for i in range(len(state)):\n",
    "    #TODO: Initialize the num_of_instances to zero\n",
    "    Puzzle.num_of_instances=0\n",
    "    #Set t0 to current time\n",
    "    t0=time()\n",
    "    \n",
    "    bfs=breadth_first_search(state[i]) # state[i] is at the first run is 0\n",
    "    #Get the time t1 after executing the breadth_first_search method\n",
    "    t1=time()-t0\n",
    "    print()\n",
    "    print('BFS:', bfs)\n",
    "   \n",
    "    print('space:',Puzzle.num_of_instances)\n",
    "    print()\n",
    "    print('time:',t1)\n",
    "    print()\n",
    "print('------------------------------------------')"
   ]
  },
  {
   "cell_type": "markdown",
   "metadata": {
    "colab_type": "text",
    "id": "xB1cHqYRVBda"
   },
   "source": [
    "**BONUS TASK:**\n",
    "Now, perform the following task before submitting the assignment: \n",
    "\n",
    "\n",
    "Show the path in traversing the BFS algorithm of each state from intial_state to goal state.\n",
    "\n",
    "\n"
   ]
  }
 ],
 "metadata": {
  "colab": {
   "collapsed_sections": [],
   "name": "Lab2_8 Puzzle Single Player Game (BFS).ipynb",
   "provenance": []
  },
  "kernelspec": {
   "display_name": "Python 3",
   "language": "python",
   "name": "python3"
  },
  "language_info": {
   "codemirror_mode": {
    "name": "ipython",
    "version": 3
   },
   "file_extension": ".py",
   "mimetype": "text/x-python",
   "name": "python",
   "nbconvert_exporter": "python",
   "pygments_lexer": "ipython3",
   "version": "3.10.4 (tags/v3.10.4:9d38120, Mar 23 2022, 23:13:41) [MSC v.1929 64 bit (AMD64)]"
  },
  "vscode": {
   "interpreter": {
    "hash": "0c4598cb0e8224ee4992ef7f7aa2c97883472946fa3b7b41abaa0dd95d9de624"
   }
  }
 },
 "nbformat": 4,
 "nbformat_minor": 1
}
