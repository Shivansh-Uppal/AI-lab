{
 "cells": [
  {
   "cell_type": "markdown",
   "metadata": {},
   "source": [
    "<h1>Tic-Tac-Toe Game using MiniMax Algorithm</h1>"
   ]
  },
  {
   "cell_type": "markdown",
   "metadata": {},
   "source": [
    "<b>What is Minimax?</b>\n",
    "\n",
    "\n",
    "Minimax is a artifical intelligence applied in two player games, such as tic-tac-toe, checkers, chess and go. This games are known as zero-sum games, because in a mathematical representation: one player wins (+1) and other player loses (-1) or both of anyone not to win (0).\n",
    "\n",
    "\n",
    "Minimax is a type of adversarial search algorithm for generating and exploring game trees. It is mostly used to solve zero-sum games where one side’s gain is equivalent to other side’s loss, so adding all gains and subtracting all losses end up being zero.\n",
    "\n",
    "\n",
    "Adversarial search differs from conventional searching algorithms by adding opponents into the mix. Minimax algorithm keeps playing the turns of both player and the opponent optimally to figure out the best possible move.\n",
    "\n",
    "<img src=\"https://miro.medium.com/max/700/1*BQVKAxmorPGfwAjVz1bI7A.png\">"
   ]
  },
  {
   "cell_type": "markdown",
   "metadata": {},
   "source": [
    "<b>How does it works?</b>\n",
    "\n",
    "The algorithm search, recursively, the best move that leads the Max player to win or not lose (draw). It consider the current state of the game and the available moves at that state, then for each valid move it plays (alternating min and max) until it finds a terminal state (win, draw or lose).\n",
    "\n",
    "Minimax is a kind of backtracking algorithm that is used in decision making and game theory to find the optimal move for a player, assuming that your opponent also plays optimally. It is widely used in two player turn-based games such as Tic-Tac-Toe, Backgammon, Mancala, Chess, etc.\n",
    "\n",
    "In Minimax the two players are called maximizer and minimizer. The maximizer tries to get the highest score possible while the minimizer tries to do the opposite and get the lowest score possible.\n",
    "\n",
    "Every board state has a value associated with it. In a given state if the maximizer has upper hand then, the score of the board will tend to be some positive value. If the minimizer has the upper hand in that board state then it will tend to be some negative value. The values of the board are calculated by some heuristics which are unique for every type of game.\n",
    "\n",
    "Example:\n",
    "Consider a game which has 4 final states and paths to reach final state are from root to 4 leaves of a perfect binary tree as shown below. Assume you are the maximizing player and you get the first chance to move, i.e., you are at the root and your opponent at next level. Which move you would make as a maximizing player considering that your opponent also plays optimally?\n",
    "\n",
    "<img src=\"https://media.geeksforgeeks.org/wp-content/uploads/minmax.png\">\n",
    "\n",
    "Since this is a backtracking based algorithm, it tries all possible moves, then backtracks and makes a decision.\n",
    "\n",
    "Maximizer goes LEFT: It is now the minimizers turn. The minimizer now has a choice between 3 and 5. Being the minimizer it will definitely choose the least among both, that is 3\n",
    "Maximizer goes RIGHT: It is now the minimizers turn. The minimizer now has a choice between 2 and 9. He will choose 2 as it is the least among the two values.\n",
    "Being the maximizer you would choose the larger value that is 3. Hence the optimal move for the maximizer is to go LEFT and the optimal value is 3.\n",
    "\n",
    "Now the game tree looks like below :\n",
    "\n",
    "<img src=\"https://media.geeksforgeeks.org/wp-content/uploads/minmax1.png\">\n",
    "\n",
    "The above tree shows two possible scores when maximizer makes left and right moves.\n",
    "\n",
    "Note: Even though there is a value of 9 on the right subtree, the minimizer will never pick that. We must always assume that our opponent plays optimally.\n"
   ]
  },
  {
   "cell_type": "code",
   "execution_count": 12,
   "metadata": {},
   "outputs": [],
   "source": [
    "#Import the necessary libraries\n",
    "import numpy as np\n",
    "from math import inf as infinity"
   ]
  },
  {
   "cell_type": "code",
   "execution_count": 13,
   "metadata": {},
   "outputs": [],
   "source": [
    "#Set the Empty Board\n",
    "game_state = [[' ',' ',' '],\n",
    "              [' ',' ',' '],\n",
    "              [' ',' ',' ']]\n",
    "#Create the Two Players as 'X'/'O'\n",
    "players = ['X','O']"
   ]
  },
  {
   "cell_type": "code",
   "execution_count": 14,
   "metadata": {},
   "outputs": [
    {
     "name": "stderr",
     "output_type": "stream",
     "text": [
      "<>:3: SyntaxWarning: \"is\" with a literal. Did you mean \"==\"?\n",
      "<>:3: SyntaxWarning: \"is\" with a literal. Did you mean \"==\"?\n",
      "C:\\Users\\Shivansh\\AppData\\Local\\Temp\\ipykernel_21332\\1865335018.py:3: SyntaxWarning: \"is\" with a literal. Did you mean \"==\"?\n",
      "  if state[int((block_num-1)/3)][(block_num-1)%3] is ' ':\n"
     ]
    }
   ],
   "source": [
    "#Method for checking the correct move on Tic-Tac-Toe\n",
    "def play_move(state, player, block_num):\n",
    "    if state[int((block_num-1)/3)][(block_num-1)%3] is ' ':\n",
    "        #TODO: Assign the player move on the current position of Tic-Tac-Toe if condition is True\n",
    "        state[int((block_num-1)/3)][(block_num-1)%3] = player\n",
    "    else:\n",
    "        block_num = int(input(\"Block is not empty, ya blockhead! Choose again: \"))\n",
    "        #TODO: Recursively call the play_move "
   ]
  },
  {
   "cell_type": "code",
   "execution_count": 15,
   "metadata": {},
   "outputs": [],
   "source": [
    "#Method to copy the current game state to new_state of Tic-Tac-Toe\n",
    "def copy_game_state(state):\n",
    "    new_state = [[' ',' ',' '],[' ',' ',' '],[' ',' ',' ']]\n",
    "    for i in range(3):\n",
    "        for j in range(3):\n",
    "            #TODO: Copy the Tic-Tac-Toe state to new_state\n",
    "               None\n",
    "    #TODO: Return the new_state\n",
    "    return None"
   ]
  },
  {
   "cell_type": "code",
   "execution_count": 16,
   "metadata": {},
   "outputs": [
    {
     "name": "stderr",
     "output_type": "stream",
     "text": [
      "<>:7: SyntaxWarning: \"is\" with a literal. Did you mean \"==\"?\n",
      "<>:10: SyntaxWarning: \"is\" with a literal. Did you mean \"==\"?\n",
      "<>:14: SyntaxWarning: \"is not\" with a literal. Did you mean \"!=\"?\n",
      "<>:7: SyntaxWarning: \"is\" with a literal. Did you mean \"==\"?\n",
      "<>:10: SyntaxWarning: \"is\" with a literal. Did you mean \"==\"?\n",
      "<>:14: SyntaxWarning: \"is not\" with a literal. Did you mean \"!=\"?\n",
      "C:\\Users\\Shivansh\\AppData\\Local\\Temp\\ipykernel_21332\\3653827380.py:7: SyntaxWarning: \"is\" with a literal. Did you mean \"==\"?\n",
      "  if game_state[i][j] is ' ':\n",
      "C:\\Users\\Shivansh\\AppData\\Local\\Temp\\ipykernel_21332\\3653827380.py:10: SyntaxWarning: \"is\" with a literal. Did you mean \"==\"?\n",
      "  if draw_flag is 0:\n",
      "C:\\Users\\Shivansh\\AppData\\Local\\Temp\\ipykernel_21332\\3653827380.py:14: SyntaxWarning: \"is not\" with a literal. Did you mean \"!=\"?\n",
      "  if (game_state[0][0] == game_state[0][1] and game_state[0][1] == game_state[0][2] and game_state[0][0] is not ' '):\n"
     ]
    }
   ],
   "source": [
    "#Method to check the current state of the Tic-Tac-Toe\n",
    "def check_current_state(game_state):\n",
    "    #TODO: Set the draw_flag to 0\n",
    "    draw_flag = None\n",
    "    for i in range(3):\n",
    "        for j in range(3):\n",
    "            if game_state[i][j] is ' ':\n",
    "                draw_flag = 1\n",
    "    \n",
    "    if draw_flag is 0:\n",
    "        return None, \"Draw\"\n",
    "    \n",
    "    # Check horizontals in first row\n",
    "    if (game_state[0][0] == game_state[0][1] and game_state[0][1] == game_state[0][2] and game_state[0][0] is not ' '):\n",
    "        return game_state[0][0], \"Done\"\n",
    "    #TODO: Check horizontals in second row\n",
    "    if (None):\n",
    "        return game_state[1][0], \"Done\"\n",
    "    #TODO: Check horizontals in third row\n",
    "    if (None):\n",
    "        return game_state[2][0], \"Done\"\n",
    "    \n",
    "    # Check verticals in first column\n",
    "    if (None):\n",
    "        return game_state[0][0], \"Done\"\n",
    "    # Check verticals in second column\n",
    "    if (None):\n",
    "        return game_state[0][1], \"Done\"\n",
    "    # Check verticals in third column\n",
    "    if (None):\n",
    "        return game_state[0][2], \"Done\"\n",
    "    \n",
    "    # Check left diagonal\n",
    "    if (None):\n",
    "        return game_state[1][1], \"Done\"\n",
    "    # Check right diagonal\n",
    "    if (None):\n",
    "        return game_state[1][1], \"Done\"\n",
    "    \n",
    "    return None, \"Not Done\""
   ]
  },
  {
   "cell_type": "code",
   "execution_count": 17,
   "metadata": {},
   "outputs": [],
   "source": [
    "#Method to print the Tic-Tac-Toe Board\n",
    "def print_board(game_state):\n",
    "    print('----------------')\n",
    "    print('| ' + str(game_state[0][0]) + ' || ' + str(game_state[0][1]) + ' || ' + str(game_state[0][2]) + ' |')\n",
    "    print('----------------')\n",
    "    print('| ' + str(game_state[1][0]) + ' || ' + str(game_state[1][1]) + ' || ' + str(game_state[1][2]) + ' |')\n",
    "    print('----------------')\n",
    "    print('| ' + str(game_state[2][0]) + ' || ' + str(game_state[2][1]) + ' || ' + str(game_state[2][2]) + ' |')\n",
    "    print('----------------')"
   ]
  },
  {
   "cell_type": "code",
   "execution_count": 18,
   "metadata": {},
   "outputs": [
    {
     "name": "stderr",
     "output_type": "stream",
     "text": [
      "<>:23: SyntaxWarning: \"is\" with a literal. Did you mean \"==\"?\n",
      "<>:23: SyntaxWarning: \"is\" with a literal. Did you mean \"==\"?\n",
      "C:\\Users\\Shivansh\\AppData\\Local\\Temp\\ipykernel_21332\\1726955884.py:23: SyntaxWarning: \"is\" with a literal. Did you mean \"==\"?\n",
      "  if state[i][j] is ' ':\n"
     ]
    }
   ],
   "source": [
    "#Method for implement the Minimax Algorithm\n",
    "def getBestMove(state, player):\n",
    "    #TODO: call the check_current_state method using state parameter\n",
    "    winner_loser , done = None\n",
    "    \n",
    "    #TODO:Check condition for winner, if winner_loser is 'O' then Computer won \n",
    "    #else if winner_loser is 'X' then You won else game is draw \n",
    "    if done == \"Done\" and winner_loser == None:\n",
    "        return 1\n",
    "    elif done == \"Done\" and winner_loser == None: \n",
    "        return -1\n",
    "    elif done == \"Draw\":    \n",
    "        return 0\n",
    "    \n",
    "    #TODO: set moves to empty list    \n",
    "    moves = None\n",
    "    #TODO: set empty_cells to empty list    \n",
    "    empty_cells = None\n",
    "    \n",
    "    #Append the block_num to the empty_cells list\n",
    "    for i in range(3):\n",
    "        for j in range(3):\n",
    "            if state[i][j] is ' ':\n",
    "                empty_cells.append(i*3 + (j+1))\n",
    "    \n",
    "    #TODO:Iterate over all the empty_cells\n",
    "    for empty_cell in None:\n",
    "        #TODO: create the empty dictionary\n",
    "        move = None\n",
    "        \n",
    "        #TODO: Assign the empty_cell to move['index']\n",
    "        move['index'] = None\n",
    "        \n",
    "        #Call the copy_game_state method\n",
    "        new_state = copy_game_state(state)\n",
    "        \n",
    "        #TODO: Call the play_move method with new_state,player,empty_cell\n",
    "        play_move(None)\n",
    "        \n",
    "        #if player is computer\n",
    "        if player == 'O':    \n",
    "            #TODO: Call getBestMove method with new_state and human player ('X') to make more depth tree for human\n",
    "            result = None\n",
    "            move['score'] = result\n",
    "        else:\n",
    "            #TODO: Call getBestMove method with new_state and computer player('O') to make more depth tree for computer\n",
    "            result = None\n",
    "            move['score'] = result\n",
    "        \n",
    "        moves.append(move)\n",
    "\n",
    "    # Find best move\n",
    "    best_move = None\n",
    "    #Check if player is computer('O')\n",
    "    if player == \"O\":  \n",
    "        #TODO: Set best as -infinity for computer\n",
    "        best = None\n",
    "        for move in moves:\n",
    "            #TODO: Check if move['score'] is greater than best\n",
    "            if None:\n",
    "                best = move['score']\n",
    "                best_move = move['index']\n",
    "    else:\n",
    "        #TODO: Set best as infinity for human\n",
    "        best = None\n",
    "        for move in moves:\n",
    "            #TODO: Check if move['score'] is less than best\n",
    "            if None:\n",
    "                best = move['score']\n",
    "                best_move = move['index']\n",
    "                \n",
    "    return best_move"
   ]
  },
  {
   "cell_type": "code",
   "execution_count": 19,
   "metadata": {},
   "outputs": [
    {
     "name": "stderr",
     "output_type": "stream",
     "text": [
      "<>:48: SyntaxWarning: \"is\" with a literal. Did you mean \"==\"?\n",
      "<>:48: SyntaxWarning: \"is\" with a literal. Did you mean \"==\"?\n",
      "C:\\Users\\Shivansh\\AppData\\Local\\Temp\\ipykernel_21332\\2372941230.py:48: SyntaxWarning: \"is\" with a literal. Did you mean \"==\"?\n",
      "  if current_state is \"Draw\":\n"
     ]
    },
    {
     "name": "stdout",
     "output_type": "stream",
     "text": [
      "\n",
      "New Game!\n",
      "----------------\n",
      "|   ||   ||   |\n",
      "----------------\n",
      "|   ||   ||   |\n",
      "----------------\n",
      "|   ||   ||   |\n",
      "----------------\n"
     ]
    },
    {
     "ename": "NameError",
     "evalue": "name 'current_player_idx' is not defined",
     "output_type": "error",
     "traceback": [
      "\u001b[1;31m---------------------------------------------------------------------------\u001b[0m",
      "\u001b[1;31mNameError\u001b[0m                                 Traceback (most recent call last)",
      "Cell \u001b[1;32mIn[19], line 31\u001b[0m\n\u001b[0;32m     27\u001b[0m     \u001b[39mNone\u001b[39;00m\n\u001b[0;32m     29\u001b[0m \u001b[39mwhile\u001b[39;00m current_state \u001b[39m==\u001b[39m \u001b[39m\"\u001b[39m\u001b[39mNot Done\u001b[39m\u001b[39m\"\u001b[39m:\n\u001b[0;32m     30\u001b[0m     \u001b[39m#For Human Turn\u001b[39;00m\n\u001b[1;32m---> 31\u001b[0m     \u001b[39mif\u001b[39;00m current_player_idx \u001b[39m==\u001b[39m \u001b[39m0\u001b[39m: \n\u001b[0;32m     32\u001b[0m         block_choice \u001b[39m=\u001b[39m \u001b[39mint\u001b[39m(\u001b[39minput\u001b[39m(\u001b[39m\"\u001b[39m\u001b[39mYour turn please! Choose where to place (1 to 9): \u001b[39m\u001b[39m\"\u001b[39m))\n\u001b[0;32m     33\u001b[0m         \u001b[39m#TODO: Call the play_move with parameters as game_state ,players[current_player_idx], block_choice\u001b[39;00m\n",
      "\u001b[1;31mNameError\u001b[0m: name 'current_player_idx' is not defined"
     ]
    }
   ],
   "source": [
    "# Now PLaying the Tic-Tac-Toe Game\n",
    "play_again = 'Y'\n",
    "while play_again == 'Y' or play_again == 'y':\n",
    "    #Set the empty board for Tic-Tac-Toe\n",
    "    game_state = [[' ',' ',' '],\n",
    "              [' ',' ',' '],\n",
    "              [' ',' ',' ']]\n",
    "    #Set current_state as \"Not Done\"\n",
    "    current_state = \"Not Done\"\n",
    "    print(\"\\nNew Game!\")\n",
    "    \n",
    "    #print the game_state \n",
    "    print_board(game_state)\n",
    "    \n",
    "    #Select the player_choice to start the game\n",
    "    player_choice = input(\"Choose which player goes first - X (You) or O(Computer): \")\n",
    "    \n",
    "    #Set winner as None\n",
    "    winner = None\n",
    "    \n",
    "    #if player_choice is ('X' or 'x') for humans else for computer\n",
    "    if player_choice == 'X' or player_choice == 'x':\n",
    "        #TODO: Set current_player_idx is 0\n",
    "        None\n",
    "    else:\n",
    "        #TODO: Set current_player_idx is 1\n",
    "        None\n",
    "        \n",
    "    while current_state == \"Not Done\":\n",
    "        #For Human Turn\n",
    "        if current_player_idx == 0: \n",
    "            block_choice = int(input(\"Your turn please! Choose where to place (1 to 9): \"))\n",
    "            #TODO: Call the play_move with parameters as game_state ,players[current_player_idx], block_choice\n",
    "            None\n",
    "        else:   # Computer turn\n",
    "            block_choice = getBestMove(game_state, players[current_player_idx])\n",
    "            #TODO: Call the play_move with parameters as game_state ,players[current_player_idx], block_choice\n",
    "            None\n",
    "            print(\"AI plays move: \" + str(block_choice))\n",
    "        print_board(game_state)\n",
    "        #TODO: Call the check_current_state function for game_state\n",
    "        None\n",
    "        if winner is not None:\n",
    "            print(str(winner) + \" won!\")\n",
    "        else:\n",
    "            current_player_idx = (current_player_idx + 1)%2\n",
    "        \n",
    "        if current_state is \"Draw\":\n",
    "            print(\"Draw!\")\n",
    "            \n",
    "    play_again = input('Wanna try again?(Y/N) : ')\n",
    "    if play_again == 'N':\n",
    "        print('Thank you for playing Tic-Tac-Toe Game!!!!!!!')"
   ]
  },
  {
   "cell_type": "markdown",
   "metadata": {},
   "source": [
    "<h3>BONUS QUESTIONS: CREATE ALPHA-BETA PRUNING FUNCTION. FIND THE NUMBER OF STATES PRUNED BY THE ALGORITHM</h3>"
   ]
  }
 ],
 "metadata": {
  "kernelspec": {
   "display_name": "Python 3",
   "language": "python",
   "name": "python3"
  },
  "language_info": {
   "codemirror_mode": {
    "name": "ipython",
    "version": 3
   },
   "file_extension": ".py",
   "mimetype": "text/x-python",
   "name": "python",
   "nbconvert_exporter": "python",
   "pygments_lexer": "ipython3",
   "version": "3.11.2"
  },
  "vscode": {
   "interpreter": {
    "hash": "5e7d79ffb1be37a44d04a29aec128ffe2213734a828ef8b6c1eca26c43a88366"
   }
  }
 },
 "nbformat": 4,
 "nbformat_minor": 2
}
